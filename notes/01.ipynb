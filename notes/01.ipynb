{
 "cells": [
  {
   "cell_type": "code",
   "execution_count": 18,
   "metadata": {},
   "outputs": [
    {
     "name": "stdout",
     "output_type": "stream",
     "text": [
      "[ 1  2  3  4  5  6  7  8  9 10]\n",
      "10\n",
      "7.5\n",
      "第一四分位数为: 8\n"
     ]
    }
   ],
   "source": [
    "import numpy as np  \n",
    "  \n",
    "# 创建一个包含1到10的数组  \n",
    "arr = np.arange(1, 11)\n",
    "print(arr)  \n",
    "# 计算数组长度  \n",
    "length = len(arr)  \n",
    "  \n",
    "# 计算第一四分位数的位置  \n",
    "quarter_position = length * 0.75\n",
    "print(length)\n",
    "print(quarter_position)\n",
    "# 通过四舍五入获取第一四分位数的索引  \n",
    "quarter_index = int(quarter_position)  \n",
    "  \n",
    "# 根据索引计算第一四分位数  \n",
    "first_quartile = arr[quarter_index]  \n",
    "  \n",
    "print(\"第一四分位数为:\", first_quartile)"
   ]
  },
  {
   "cell_type": "markdown",
   "metadata": {},
   "source": [
    "> 复数（complex number）\n",
    "$$ a+bi $$\n",
    "a,b是实数；i是虚数单位\n",
    "$$ i^2 = -1 $$\n",
    "\n",
    "> 实数（real numbers）\n",
    "> 虚数（imaginary numbers）\n",
    "\n",
    "复数集(the set of complex numbers) 记号：C\n",
    "实数集（the set of real numbers）记号：R\n",
    "\n",
    "集合（set）\n",
    "\n",
    "代数（algebra）\n",
    "\n",
    "有理数（）\n",
    "$$\\frac{a}{b}$$\n",
    "\n",
    "无理数：$\\pi$ ; $\\sqrt{2}$; 自然常数e（欧拉数）； 黄金分割比\n",
    "\n",
    "整数集（）符号：Z\n",
    "\n",
    "自然数\n",
    "\n",
    "矩阵（matrix）\n",
    "\n",
    "对角矩阵\n",
    "单位矩阵\n",
    "对称矩阵\n",
    "零矩阵"
   ]
  },
  {
   "cell_type": "code",
   "execution_count": 2,
   "metadata": {},
   "outputs": [
    {
     "data": {
      "text/plain": [
       "32.0"
      ]
     },
     "execution_count": 2,
     "metadata": {},
     "output_type": "execute_result"
    },
    {
     "ename": "",
     "evalue": "",
     "output_type": "error",
     "traceback": [
      "\u001b[1;31mThe Kernel crashed while executing code in the the current cell or a previous cell. Please review the code in the cell(s) to identify a possible cause of the failure. Click <a href='https://aka.ms/vscodeJupyterKernelCrash'>here</a> for more info. View Jupyter <a href='command:jupyter.viewOutput'>log</a> for further details."
     ]
    }
   ],
   "source": [
    "import math\n",
    "math.sqrt(1024)"
   ]
  }
 ],
 "metadata": {
  "kernelspec": {
   "display_name": "python3.11",
   "language": "python",
   "name": "python3"
  },
  "language_info": {
   "codemirror_mode": {
    "name": "ipython",
    "version": 3
   },
   "file_extension": ".py",
   "mimetype": "text/x-python",
   "name": "python",
   "nbconvert_exporter": "python",
   "pygments_lexer": "ipython3",
   "version": "3.11.4"
  },
  "orig_nbformat": 4
 },
 "nbformat": 4,
 "nbformat_minor": 2
}
